{
 "cells": [
  {
   "cell_type": "code",
   "execution_count": 1,
   "id": "3a1338fd",
   "metadata": {},
   "outputs": [
    {
     "name": "stdout",
     "output_type": "stream",
     "text": [
      "Requirement already satisfied: Flask in c:\\users\\aedpu\\anaconda3\\envs\\vikneshrajd\\lib\\site-packages (2.2.3)\n",
      "Requirement already satisfied: click>=8.0 in c:\\users\\aedpu\\anaconda3\\envs\\vikneshrajd\\lib\\site-packages (from Flask) (8.1.3)\n",
      "Requirement already satisfied: importlib-metadata>=3.6.0 in c:\\users\\aedpu\\anaconda3\\envs\\vikneshrajd\\lib\\site-packages (from Flask) (6.6.0)\n",
      "Requirement already satisfied: Jinja2>=3.0 in c:\\users\\aedpu\\anaconda3\\envs\\vikneshrajd\\lib\\site-packages (from Flask) (3.1.2)\n",
      "Requirement already satisfied: itsdangerous>=2.0 in c:\\users\\aedpu\\anaconda3\\envs\\vikneshrajd\\lib\\site-packages (from Flask) (2.1.2)\n",
      "Requirement already satisfied: Werkzeug>=2.2.2 in c:\\users\\aedpu\\anaconda3\\envs\\vikneshrajd\\lib\\site-packages (from Flask) (2.2.3)\n",
      "Requirement already satisfied: colorama in c:\\users\\aedpu\\anaconda3\\envs\\vikneshrajd\\lib\\site-packages (from click>=8.0->Flask) (0.4.6)\n",
      "Requirement already satisfied: zipp>=0.5 in c:\\users\\aedpu\\anaconda3\\envs\\vikneshrajd\\lib\\site-packages (from importlib-metadata>=3.6.0->Flask) (3.15.0)\n",
      "Requirement already satisfied: MarkupSafe>=2.0 in c:\\users\\aedpu\\anaconda3\\envs\\vikneshrajd\\lib\\site-packages (from Jinja2>=3.0->Flask) (2.1.1)\n",
      "Note: you may need to restart the kernel to use updated packages.\n"
     ]
    }
   ],
   "source": [
    "pip install Flask"
   ]
  },
  {
   "cell_type": "code",
   "execution_count": null,
   "id": "805a5c7c",
   "metadata": {},
   "outputs": [
    {
     "name": "stdout",
     "output_type": "stream",
     "text": [
      " * Serving Flask app '__main__'\n",
      " * Debug mode: off\n"
     ]
    },
    {
     "name": "stderr",
     "output_type": "stream",
     "text": [
      "WARNING: This is a development server. Do not use it in a production deployment. Use a production WSGI server instead.\n",
      " * Running on all addresses (0.0.0.0)\n",
      " * Running on http://127.0.0.1:5000\n",
      " * Running on http://172.20.56.6:5000\n",
      "Press CTRL+C to quit\n"
     ]
    }
   ],
   "source": [
    "from flask import Flask, render_template, request, flash\n",
    "\n",
    "app = Flask(__name__)\n",
    "app.secret_key = \"key_set123\"\n",
    "\n",
    "@app.route(\"/\")\n",
    "def index():\n",
    "    flash(\"What's your name?\")\n",
    "    return render_template(\"index.html\")\n",
    "\n",
    "@app.route(\"/greet\", methods=['POST', 'GET'])\n",
    "def greeter():\n",
    "    flash(\"Hi \" + str(request.form[\"name-input\"]) + \", nice to see you!\")\n",
    "    return render_template(\"index.html\")\n",
    "\n",
    "@app.route(\"/contact\", methods=['POST', 'GET'])\n",
    "def contact():\n",
    "    flash(\"Mobile: +91 xxxxxxxxxx\")\n",
    "    flash(\"Email: xyz@abc.com\")\n",
    "    return render_template(\"index copy.html\")\n",
    "\n",
    "if __name__ == '__main__':\n",
    "    app.run(host='0.0.0.0', port=5000)"
   ]
  },
  {
   "cell_type": "code",
   "execution_count": null,
   "id": "6b98ae03",
   "metadata": {},
   "outputs": [],
   "source": []
  }
 ],
 "metadata": {
  "kernelspec": {
   "display_name": "Python 3 (ipykernel)",
   "language": "python",
   "name": "python3"
  },
  "language_info": {
   "codemirror_mode": {
    "name": "ipython",
    "version": 3
   },
   "file_extension": ".py",
   "mimetype": "text/x-python",
   "name": "python",
   "nbconvert_exporter": "python",
   "pygments_lexer": "ipython3",
   "version": "3.9.15"
  }
 },
 "nbformat": 4,
 "nbformat_minor": 5
}
