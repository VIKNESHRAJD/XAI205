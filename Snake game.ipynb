{
 "cells": [
  {
   "cell_type": "markdown",
   "id": "2557df2a",
   "metadata": {},
   "source": [
    "# 1 Import lib"
   ]
  },
  {
   "cell_type": "code",
   "execution_count": 1,
   "id": "902d8a74",
   "metadata": {},
   "outputs": [
    {
     "name": "stdout",
     "output_type": "stream",
     "text": [
      "Requirement already satisfied: game in c:\\users\\aedpu\\anaconda3\\envs\\vikneshrajd\\lib\\site-packages (0.0.5)\n",
      "Note: you may need to restart the kernel to use updated packages.\n"
     ]
    }
   ],
   "source": [
    "pip install game"
   ]
  },
  {
   "cell_type": "code",
   "execution_count": 2,
   "id": "12f7114f",
   "metadata": {},
   "outputs": [
    {
     "name": "stdout",
     "output_type": "stream",
     "text": [
      "pygame 2.3.0 (SDL 2.24.2, Python 3.9.15)\n",
      "Hello from the pygame community. https://www.pygame.org/contribute.html\n"
     ]
    }
   ],
   "source": [
    "import pygame\n",
    "import time\n",
    "import random"
   ]
  },
  {
   "cell_type": "markdown",
   "id": "e4a84b04",
   "metadata": {},
   "source": [
    "# 2 Setting Snake Speed"
   ]
  },
  {
   "cell_type": "code",
   "execution_count": 3,
   "id": "c60a20a8",
   "metadata": {},
   "outputs": [],
   "source": [
    "snake_speed = 15"
   ]
  },
  {
   "cell_type": "markdown",
   "id": "b72437bb",
   "metadata": {},
   "source": [
    "# 3 Setting Window size"
   ]
  },
  {
   "cell_type": "code",
   "execution_count": 4,
   "id": "2ebbbdf4",
   "metadata": {},
   "outputs": [],
   "source": [
    "window_x = 720\n",
    "window_y = 480"
   ]
  },
  {
   "cell_type": "markdown",
   "id": "4303ccce",
   "metadata": {},
   "source": [
    "# 4 Defining Color"
   ]
  },
  {
   "cell_type": "code",
   "execution_count": 5,
   "id": "3eb21d44",
   "metadata": {},
   "outputs": [],
   "source": [
    "black = pygame.Color(0, 0, 0)\n",
    "white = pygame.Color(255, 255, 255)\n",
    "red= pygame.Color(255, 0, 0)\n",
    "green = pygame.Color(0, 255, 0)\n",
    "blue = pygame.Color(0, 0, 255)"
   ]
  },
  {
   "cell_type": "markdown",
   "id": "51c3dbdc",
   "metadata": {},
   "source": [
    "# 5 Initialising Pygame"
   ]
  },
  {
   "cell_type": "code",
   "execution_count": 6,
   "id": "51a0bd04",
   "metadata": {},
   "outputs": [
    {
     "data": {
      "text/plain": [
       "(4, 1)"
      ]
     },
     "execution_count": 6,
     "metadata": {},
     "output_type": "execute_result"
    }
   ],
   "source": [
    "pygame.init()"
   ]
  },
  {
   "cell_type": "markdown",
   "id": "2fa6d59c",
   "metadata": {},
   "source": [
    "# 6 Initialising Game Window"
   ]
  },
  {
   "cell_type": "code",
   "execution_count": 7,
   "id": "397bf4ba",
   "metadata": {},
   "outputs": [],
   "source": [
    "pygame.display.set_caption('Snakes')\n",
    "game_window = pygame.display.set_mode((window_x, window_y))"
   ]
  },
  {
   "cell_type": "markdown",
   "id": "3faa8bc8",
   "metadata": {},
   "source": [
    "# 7 Setting FPS Controller"
   ]
  },
  {
   "cell_type": "code",
   "execution_count": 8,
   "id": "596d683c",
   "metadata": {},
   "outputs": [],
   "source": [
    "fps = pygame.time.Clock()"
   ]
  },
  {
   "cell_type": "markdown",
   "id": "95e34472",
   "metadata": {},
   "source": [
    "# 8 Defining Snake Default Position"
   ]
  },
  {
   "cell_type": "code",
   "execution_count": 9,
   "id": "2ec8ba15",
   "metadata": {},
   "outputs": [],
   "source": [
    "snake_position =[100, 50]"
   ]
  },
  {
   "cell_type": "markdown",
   "id": "a996a28a",
   "metadata": {},
   "source": [
    "# 9 Defining 1st 4 snake body blocks"
   ]
  },
  {
   "cell_type": "code",
   "execution_count": 10,
   "id": "209ff07b",
   "metadata": {},
   "outputs": [],
   "source": [
    "snake_body = [[100, 50],\n",
    "              [90, 50],\n",
    "              [80, 50],\n",
    "              [70, 50]\n",
    "             ]"
   ]
  },
  {
   "cell_type": "markdown",
   "id": "e267b12c",
   "metadata": {},
   "source": [
    "# 10 Fruit Position"
   ]
  },
  {
   "cell_type": "code",
   "execution_count": 11,
   "id": "0ad30c2a",
   "metadata": {},
   "outputs": [],
   "source": [
    "fruit_position =[random.randrange(1, (window_x//10)) * 10,\n",
    "                 random.randrange(1, (window_x//10)) * 10]\n",
    "fruit_spwan = True"
   ]
  },
  {
   "cell_type": "markdown",
   "id": "f8cdbe79",
   "metadata": {},
   "source": [
    "# 11 Setting Default Snake Direction\n",
    "Right Direction"
   ]
  },
  {
   "cell_type": "code",
   "execution_count": 12,
   "id": "6a743bf1",
   "metadata": {},
   "outputs": [],
   "source": [
    "direction = 'RIGHT'\n",
    "change_to = direction"
   ]
  },
  {
   "cell_type": "markdown",
   "id": "19da010f",
   "metadata": {},
   "source": [
    "# 12 Set Initial Score"
   ]
  },
  {
   "cell_type": "code",
   "execution_count": 13,
   "id": "a4100f14",
   "metadata": {},
   "outputs": [],
   "source": [
    "score = 0"
   ]
  },
  {
   "cell_type": "markdown",
   "id": "6329d78b",
   "metadata": {},
   "source": [
    "# 13 Function - Score Display"
   ]
  },
  {
   "cell_type": "code",
   "execution_count": 14,
   "id": "08eca869",
   "metadata": {},
   "outputs": [],
   "source": [
    "def show_score(choice, color, font, size):\n",
    "    \n",
    "    score_font = pygame.font.sysFont(font, size )\n",
    "    \n",
    "    score_surface = score_font.render('score : ' + str(score), True, color)\n",
    "    \n",
    "    score_rect = score_surface.get_rect()\n",
    "    \n",
    "    game_window.blit(score_surface, score_rect)\n",
    "    \n",
    "    "
   ]
  },
  {
   "cell_type": "markdown",
   "id": "728f78b2",
   "metadata": {},
   "source": [
    "# 14 Function- Game Over"
   ]
  },
  {
   "cell_type": "code",
   "execution_count": 15,
   "id": "cbd34a97",
   "metadata": {},
   "outputs": [],
   "source": [
    "def game_over():\n",
    "    \n",
    "    my_font = pygame.font.SysFont('times new roman', 50)\n",
    "    \n",
    "    game_over_surface = my_font.render(\n",
    "         'your Score is : ' +  str(score), True, red)\n",
    "    \n",
    "    game_over_rect = game_over_surface.get_rect()\n",
    "    \n",
    "    game_over_rect.midtop = (window_x/2, window_y/4)\n",
    "    \n",
    "    game_window.blit(game_over_surface, game_over_rect)\n",
    "    pygame.display.flip()\n",
    "    \n",
    "    time.sleep(2)\n",
    "    \n",
    "    pygame.quit()\n",
    "    \n",
    "    quit()"
   ]
  },
  {
   "cell_type": "markdown",
   "id": "28e637dd",
   "metadata": {},
   "source": [
    "# 15 Function- Main Game Function"
   ]
  },
  {
   "cell_type": "code",
   "execution_count": 4,
   "id": "8ec5483b",
   "metadata": {},
   "outputs": [
    {
     "ename": "NameError",
     "evalue": "name 'pygame' is not defined",
     "output_type": "error",
     "traceback": [
      "\u001b[1;31m---------------------------------------------------------------------------\u001b[0m",
      "\u001b[1;31mNameError\u001b[0m                                 Traceback (most recent call last)",
      "Cell \u001b[1;32mIn[4], line 6\u001b[0m\n\u001b[0;32m      1\u001b[0m \u001b[38;5;28;01mwhile\u001b[39;00m \u001b[38;5;28;01mTrue\u001b[39;00m:\n\u001b[1;32m----> 6\u001b[0m     \u001b[38;5;28;01mfor\u001b[39;00m event \u001b[38;5;129;01min\u001b[39;00m \u001b[43mpygame\u001b[49m\u001b[38;5;241m.\u001b[39mevent\u001b[38;5;241m.\u001b[39mget():\n\u001b[0;32m      9\u001b[0m         \u001b[38;5;28;01mif\u001b[39;00m event\u001b[38;5;241m.\u001b[39mtype \u001b[38;5;241m==\u001b[39m pygame\u001b[38;5;241m.\u001b[39mKEYDOWN:\n\u001b[0;32m     11\u001b[0m             \u001b[38;5;28;01mif\u001b[39;00m event\u001b[38;5;241m.\u001b[39mkey \u001b[38;5;241m==\u001b[39m pygame\u001b[38;5;241m.\u001b[39mk_UP:\n",
      "\u001b[1;31mNameError\u001b[0m: name 'pygame' is not defined"
     ]
    }
   ],
   "source": [
    "while True:\n",
    "    \n",
    "    \n",
    "    \n",
    "\n",
    "    for event in pygame.event.get():\n",
    "        \n",
    "\n",
    "        if event.type == pygame.KEYDOWN:\n",
    "            \n",
    "            if event.key == pygame.k_UP:\n",
    "                \n",
    "                change_to= 'UP'\n",
    "            if event.key == pygame.k_DOWN:\n",
    "                \n",
    "                change_to= 'DOWN'\n",
    "            if event.key == pygame.k_LEFT:\n",
    "                change_to= 'LEFT'\n",
    "            if event.key == pygame.k_RIGHT:\n",
    "                change_to= 'RIGHT'\n",
    "                   \n",
    "                \n",
    "            if change_to == 'UP' and direction != 'DOWN':\n",
    "                direction = 'UP'\n",
    "            if change_to == 'DOWN' and direction != 'UP':\n",
    "                direction = 'DOWN'\n",
    "            if change_to == 'LEFT' and direction != 'RIGHT':\n",
    "                direction = 'LEFT'\n",
    "            if change_to == 'RIGHT' and direction != 'LEFT':\n",
    "                direction = 'RIGHT'\n",
    "            \n",
    "            if direction == 'UP':\n",
    "                snake_position[1] -= 10\n",
    "            if direction == 'DOWN':\n",
    "                snake_position[1] += 10\n",
    "            if direction == 'LEFT':\n",
    "                snake_position[0] -= 10\n",
    "            if direction == 'RIGHT':\n",
    "                snake_position[0] += 10\n",
    "                \n",
    "                \n",
    "            snake_body.insert(0, list(snake_position))\n",
    "            if snake_body[0] == fruit_position[0] and snake_position[1] == fruit_position[1]:\n",
    "                score += False\n",
    "                \n",
    "else:\n",
    "    snake_body.pop()\n",
    "    \n",
    "    if not fruit_spawn:\n",
    "        fruit_position = [random.randrange(1, (window_x//10)) *10,\n",
    "                          random.randrange(1, (window_x//10)) *10]\n",
    "        fruit_spawn = True\n",
    "        game_window.fill(black)\n",
    "        \n",
    "        for pos in snake_body:\n",
    "            pygame.draw.rect(game_window, white, green, pygame.Rect(pos[0], pos[1], 10, 10))\n",
    "            pygame.draw.rect(game_window, white, green,pygame.Rect(fruit_position[0], fruit_position[1], 10, 10))\n",
    "            \n",
    "            \n",
    "        if snake_position[0] < 0 or snake_position[0] > window_x-10:\n",
    "            game_over()\n",
    "        if snake_position[0] < 0 or snake_position[0] > window_y-10:    \n",
    "            game_over()\n",
    "            \n",
    "        for block in snake_body[1:]:\n",
    "            if snake_position[0] == block[0] and snake_position[1] == block[1]:\n",
    "                game_over()\n",
    "                \n",
    "            show_score(1, white, 'times new roman', 20)\n",
    "            \n",
    "            pygame.display.update()\n",
    "            \n",
    "            fps.tick(snake_speed)   "
   ]
  },
  {
   "cell_type": "code",
   "execution_count": null,
   "id": "b4aea360",
   "metadata": {},
   "outputs": [],
   "source": []
  }
 ],
 "metadata": {
  "kernelspec": {
   "display_name": "Python 3 (ipykernel)",
   "language": "python",
   "name": "python3"
  },
  "language_info": {
   "codemirror_mode": {
    "name": "ipython",
    "version": 3
   },
   "file_extension": ".py",
   "mimetype": "text/x-python",
   "name": "python",
   "nbconvert_exporter": "python",
   "pygments_lexer": "ipython3",
   "version": "3.9.15"
  }
 },
 "nbformat": 4,
 "nbformat_minor": 5
}
