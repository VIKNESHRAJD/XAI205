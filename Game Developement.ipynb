{
 "cells": [
  {
   "cell_type": "code",
   "execution_count": 1,
   "id": "a9517ce9",
   "metadata": {},
   "outputs": [
    {
     "name": "stdout",
     "output_type": "stream",
     "text": [
      "Requirement already satisfied: pygame in c:\\users\\aedpu\\anaconda3\\envs\\vikneshrajd\\lib\\site-packages (2.3.0)\n",
      "Note: you may need to restart the kernel to use updated packages.\n"
     ]
    }
   ],
   "source": [
    "pip install pygame"
   ]
  },
  {
   "cell_type": "code",
   "execution_count": 2,
   "id": "1c962e79",
   "metadata": {},
   "outputs": [
    {
     "ename": "SyntaxError",
     "evalue": "(unicode error) 'unicodeescape' codec can't decode bytes in position 2-3: truncated \\UXXXXXXXX escape (664595700.py, line 9)",
     "output_type": "error",
     "traceback": [
      "\u001b[1;36m  Cell \u001b[1;32mIn[2], line 9\u001b[1;36m\u001b[0m\n\u001b[1;33m    image = pygame.image.load('C:\\Users\\aedpu\\OneDrive\\Desktop\\DFBEagle.png')\u001b[0m\n\u001b[1;37m                                                                            ^\u001b[0m\n\u001b[1;31mSyntaxError\u001b[0m\u001b[1;31m:\u001b[0m (unicode error) 'unicodeescape' codec can't decode bytes in position 2-3: truncated \\UXXXXXXXX escape\n"
     ]
    }
   ],
   "source": [
    "import pygame\n",
    "pygame.init()\n",
    "white = (0, 255, 255)\n",
    "\n",
    "display_surface = pygame.display.set_mode((920,600))\n",
    "\n",
    "pygame.display.set_caption('HI AI Students')\n",
    "\n",
    "image = pygame.image.load('C:\\Users\\aedpu\\OneDrive\\Desktop\\DFBEagle.png')\n",
    "\n",
    "while True:\n",
    "    display_surface.fill(white)\n",
    "    display_surface.blit(image, (0, 0))\n",
    "    \n",
    "    for event in pygame.event.get():\n",
    "        if event.type == pygame.QUIT:\n",
    "            pygame.quit()\n",
    "            \n",
    "            quit()\n",
    "            \n",
    "        pygame.display.update()"
   ]
  },
  {
   "cell_type": "code",
   "execution_count": null,
   "id": "3fa9ac33",
   "metadata": {},
   "outputs": [],
   "source": [
    "while True:\n",
    "    \n",
    "    for event in pygame.evet.get():\n",
    "        if event.type == pygame.KEYDOWN:\n",
    "            if event.key == pygame.k_up:\n",
    "                change_to = 'UP'\n",
    "            if event.key == pygame.k_DOWN:\n",
    "                change_to = 'DOWN'\n",
    "            if event.key == pygame.k_LEFT:\n",
    "                change_to = 'LEFT'\n",
    "            if event.key == pygame.k_RIGHT:\n",
    "                change_to = 'RIGHT'\n",
    "                \n",
    "\n",
    "            if change_to == 'UP' and direction != 'DOWN':\n",
    "                direction = 'UP'\n",
    "            if change_to == 'DOWN' and direction != 'UP':\n",
    "                direction = 'DOWN'\n",
    "            if change_to == 'LEFT' and direction != 'RIGHT':\n",
    "                direction = 'LEFT'\n",
    "            if change_to == 'RIGHT' and direction != 'LEFT':\n",
    "                direction = 'RIGHT'\n",
    "            \n",
    "            if direction == 'UP'\n",
    "                snake_position[1] -= 10\n",
    "            if direction == 'DOWN'\n",
    "                snake_position[1] += 10    \n",
    "            if direction == 'LEFT'\n",
    "                snake_position[0] -= 10\n",
    "            if direction == 'RIGHT'\n",
    "                snake_position[0] += 10\n",
    "            \n",
    "            snake_body.insert(0, list(snake_position))\n",
    "            if snake_position[0] == fruit_position[0] and snake_position[1] == fruit_position[1]:\n",
    "                score += 10\n",
    "                furit_spwan = False\n",
    "else:\n",
    "     snake_body.pop()\n",
    "        \n",
    "    if not furit_spawn:\n",
    "        fruit_position = [random.randrange(1, (window_x//10)) *10,\n",
    "                          random.randrange(1, (window_y//10)) *10]\n",
    "        fruit_spawn = True\n",
    "        game_window.fill(black)\n",
    "        \n",
    "        for pos in snake_body:\n",
    "            pygame.draw.rect(game_window, white, green, pygame.Rect(pos[0], pos[1], 10, 10))\n",
    "            pygame.draw.rect(game_window, white, pygame.Rect(fruit_position[0], fruit_position[1], 10 ,10))\n",
    "           \n",
    "        if snake_position[0] < 0 or snake_position[0] > window_x-10:\n",
    "            game_over()\n",
    "        if snake_position[0] < 0 or snake_position[0] > window_y-10:    \n",
    "            game_over()\n",
    "            \n",
    "        for block in snake_body[1:]:\n",
    "            if snake_position[0] == block[0] and snake_position[1] == block[1]:\n",
    "                game_over()\n",
    "                \n",
    "            show_score(1, white, 'times new roman', 20)\n",
    "            \n",
    "            pygame.display.update()\n",
    "            \n",
    "            fps.tick(snake_speed)\n",
    "            \n",
    "            \n",
    "            \n",
    "            "
   ]
  }
 ],
 "metadata": {
  "kernelspec": {
   "display_name": "Python 3 (ipykernel)",
   "language": "python",
   "name": "python3"
  },
  "language_info": {
   "codemirror_mode": {
    "name": "ipython",
    "version": 3
   },
   "file_extension": ".py",
   "mimetype": "text/x-python",
   "name": "python",
   "nbconvert_exporter": "python",
   "pygments_lexer": "ipython3",
   "version": "3.9.15"
  }
 },
 "nbformat": 4,
 "nbformat_minor": 5
}
